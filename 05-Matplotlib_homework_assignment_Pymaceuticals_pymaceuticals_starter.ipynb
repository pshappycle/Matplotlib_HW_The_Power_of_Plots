{
 "cells": [
  {
   "cell_type": "markdown",
   "metadata": {},
   "source": [
    "## Observations and Insights"
   ]
  },
  {
   "cell_type": "markdown",
   "metadata": {},
   "source": []
  },
  {
   "cell_type": "markdown",
   "metadata": {},
   "source": [
    "## Dependencies and starter code"
   ]
  },
  {
   "cell_type": "code",
   "execution_count": 3,
   "metadata": {},
   "outputs": [
    {
     "data": {
      "text/html": [
       "<div>\n",
       "<style scoped>\n",
       "    .dataframe tbody tr th:only-of-type {\n",
       "        vertical-align: middle;\n",
       "    }\n",
       "\n",
       "    .dataframe tbody tr th {\n",
       "        vertical-align: top;\n",
       "    }\n",
       "\n",
       "    .dataframe thead th {\n",
       "        text-align: right;\n",
       "    }\n",
       "</style>\n",
       "<table border=\"1\" class=\"dataframe\">\n",
       "  <thead>\n",
       "    <tr style=\"text-align: right;\">\n",
       "      <th></th>\n",
       "      <th>Mouse ID</th>\n",
       "      <th>Drug Regimen</th>\n",
       "      <th>Sex</th>\n",
       "      <th>Age_months</th>\n",
       "      <th>Weight (g)</th>\n",
       "      <th>Timepoint</th>\n",
       "      <th>Tumor Volume (mm3)</th>\n",
       "      <th>Metastatic Sites</th>\n",
       "    </tr>\n",
       "  </thead>\n",
       "  <tbody>\n",
       "    <tr>\n",
       "      <td>0</td>\n",
       "      <td>k403</td>\n",
       "      <td>Ramicane</td>\n",
       "      <td>Male</td>\n",
       "      <td>21</td>\n",
       "      <td>16</td>\n",
       "      <td>0</td>\n",
       "      <td>45.000000</td>\n",
       "      <td>0</td>\n",
       "    </tr>\n",
       "    <tr>\n",
       "      <td>1</td>\n",
       "      <td>k403</td>\n",
       "      <td>Ramicane</td>\n",
       "      <td>Male</td>\n",
       "      <td>21</td>\n",
       "      <td>16</td>\n",
       "      <td>5</td>\n",
       "      <td>38.825898</td>\n",
       "      <td>0</td>\n",
       "    </tr>\n",
       "    <tr>\n",
       "      <td>2</td>\n",
       "      <td>k403</td>\n",
       "      <td>Ramicane</td>\n",
       "      <td>Male</td>\n",
       "      <td>21</td>\n",
       "      <td>16</td>\n",
       "      <td>10</td>\n",
       "      <td>35.014271</td>\n",
       "      <td>1</td>\n",
       "    </tr>\n",
       "    <tr>\n",
       "      <td>3</td>\n",
       "      <td>k403</td>\n",
       "      <td>Ramicane</td>\n",
       "      <td>Male</td>\n",
       "      <td>21</td>\n",
       "      <td>16</td>\n",
       "      <td>15</td>\n",
       "      <td>34.223992</td>\n",
       "      <td>1</td>\n",
       "    </tr>\n",
       "    <tr>\n",
       "      <td>4</td>\n",
       "      <td>k403</td>\n",
       "      <td>Ramicane</td>\n",
       "      <td>Male</td>\n",
       "      <td>21</td>\n",
       "      <td>16</td>\n",
       "      <td>20</td>\n",
       "      <td>32.997729</td>\n",
       "      <td>1</td>\n",
       "    </tr>\n",
       "    <tr>\n",
       "      <td>...</td>\n",
       "      <td>...</td>\n",
       "      <td>...</td>\n",
       "      <td>...</td>\n",
       "      <td>...</td>\n",
       "      <td>...</td>\n",
       "      <td>...</td>\n",
       "      <td>...</td>\n",
       "      <td>...</td>\n",
       "    </tr>\n",
       "    <tr>\n",
       "      <td>1888</td>\n",
       "      <td>z969</td>\n",
       "      <td>Naftisol</td>\n",
       "      <td>Male</td>\n",
       "      <td>9</td>\n",
       "      <td>30</td>\n",
       "      <td>25</td>\n",
       "      <td>63.145652</td>\n",
       "      <td>2</td>\n",
       "    </tr>\n",
       "    <tr>\n",
       "      <td>1889</td>\n",
       "      <td>z969</td>\n",
       "      <td>Naftisol</td>\n",
       "      <td>Male</td>\n",
       "      <td>9</td>\n",
       "      <td>30</td>\n",
       "      <td>30</td>\n",
       "      <td>65.841013</td>\n",
       "      <td>3</td>\n",
       "    </tr>\n",
       "    <tr>\n",
       "      <td>1890</td>\n",
       "      <td>z969</td>\n",
       "      <td>Naftisol</td>\n",
       "      <td>Male</td>\n",
       "      <td>9</td>\n",
       "      <td>30</td>\n",
       "      <td>35</td>\n",
       "      <td>69.176246</td>\n",
       "      <td>4</td>\n",
       "    </tr>\n",
       "    <tr>\n",
       "      <td>1891</td>\n",
       "      <td>z969</td>\n",
       "      <td>Naftisol</td>\n",
       "      <td>Male</td>\n",
       "      <td>9</td>\n",
       "      <td>30</td>\n",
       "      <td>40</td>\n",
       "      <td>70.314904</td>\n",
       "      <td>4</td>\n",
       "    </tr>\n",
       "    <tr>\n",
       "      <td>1892</td>\n",
       "      <td>z969</td>\n",
       "      <td>Naftisol</td>\n",
       "      <td>Male</td>\n",
       "      <td>9</td>\n",
       "      <td>30</td>\n",
       "      <td>45</td>\n",
       "      <td>73.867845</td>\n",
       "      <td>4</td>\n",
       "    </tr>\n",
       "  </tbody>\n",
       "</table>\n",
       "<p>1893 rows × 8 columns</p>\n",
       "</div>"
      ],
      "text/plain": [
       "     Mouse ID Drug Regimen   Sex  Age_months  Weight (g)  Timepoint  \\\n",
       "0        k403     Ramicane  Male          21          16          0   \n",
       "1        k403     Ramicane  Male          21          16          5   \n",
       "2        k403     Ramicane  Male          21          16         10   \n",
       "3        k403     Ramicane  Male          21          16         15   \n",
       "4        k403     Ramicane  Male          21          16         20   \n",
       "...       ...          ...   ...         ...         ...        ...   \n",
       "1888     z969     Naftisol  Male           9          30         25   \n",
       "1889     z969     Naftisol  Male           9          30         30   \n",
       "1890     z969     Naftisol  Male           9          30         35   \n",
       "1891     z969     Naftisol  Male           9          30         40   \n",
       "1892     z969     Naftisol  Male           9          30         45   \n",
       "\n",
       "      Tumor Volume (mm3)  Metastatic Sites  \n",
       "0              45.000000                 0  \n",
       "1              38.825898                 0  \n",
       "2              35.014271                 1  \n",
       "3              34.223992                 1  \n",
       "4              32.997729                 1  \n",
       "...                  ...               ...  \n",
       "1888           63.145652                 2  \n",
       "1889           65.841013                 3  \n",
       "1890           69.176246                 4  \n",
       "1891           70.314904                 4  \n",
       "1892           73.867845                 4  \n",
       "\n",
       "[1893 rows x 8 columns]"
      ]
     },
     "execution_count": 3,
     "metadata": {},
     "output_type": "execute_result"
    }
   ],
   "source": [
    "# Dependencies and Setup\n",
    "import matplotlib.pyplot as plt\n",
    "import pandas as pd\n",
    "import scipy.stats as st\n",
    "import numpy as np\n",
    "\n",
    "# Study data files\n",
    "mouse_metadata = \"Mouse_metadata.csv\"\n",
    "study_results = \"Study_results.csv\"\n",
    "\n",
    "# Read the mouse data and the study results\n",
    "mouse_metadata = pd.read_csv(mouse_metadata)\n",
    "study_results = pd.read_csv(study_results)\n",
    "\n",
    "# Combine the data into a single dataset\n",
    "combined_mouse_data = pd.merge(mouse_metadata, study_results, on=\"Mouse ID\", how = \"outer\")\n",
    "\n",
    "combined_mouse_data\n"
   ]
  },
  {
   "cell_type": "markdown",
   "metadata": {},
   "source": [
    "## Summary statistics"
   ]
  },
  {
   "cell_type": "code",
   "execution_count": 4,
   "metadata": {},
   "outputs": [
    {
     "data": {
      "text/html": [
       "<div>\n",
       "<style scoped>\n",
       "    .dataframe tbody tr th:only-of-type {\n",
       "        vertical-align: middle;\n",
       "    }\n",
       "\n",
       "    .dataframe tbody tr th {\n",
       "        vertical-align: top;\n",
       "    }\n",
       "\n",
       "    .dataframe thead th {\n",
       "        text-align: right;\n",
       "    }\n",
       "</style>\n",
       "<table border=\"1\" class=\"dataframe\">\n",
       "  <thead>\n",
       "    <tr style=\"text-align: right;\">\n",
       "      <th></th>\n",
       "      <th>Tumor Volume Mean</th>\n",
       "      <th>Tumor Volume Median</th>\n",
       "      <th>Tumor Volume Variance</th>\n",
       "      <th>Tumor Volume Std Deviation</th>\n",
       "      <th>Tumor Volume Std Error of Mean</th>\n",
       "    </tr>\n",
       "    <tr>\n",
       "      <th>Drug Regimen</th>\n",
       "      <th></th>\n",
       "      <th></th>\n",
       "      <th></th>\n",
       "      <th></th>\n",
       "      <th></th>\n",
       "    </tr>\n",
       "  </thead>\n",
       "  <tbody>\n",
       "    <tr>\n",
       "      <td>Capomulin</td>\n",
       "      <td>40.675741</td>\n",
       "      <td>41.557809</td>\n",
       "      <td>24.947764</td>\n",
       "      <td>4.994774</td>\n",
       "      <td>0.329346</td>\n",
       "    </tr>\n",
       "    <tr>\n",
       "      <td>Ceftamin</td>\n",
       "      <td>52.591172</td>\n",
       "      <td>51.776157</td>\n",
       "      <td>39.290177</td>\n",
       "      <td>6.268188</td>\n",
       "      <td>0.469821</td>\n",
       "    </tr>\n",
       "    <tr>\n",
       "      <td>Infubinol</td>\n",
       "      <td>52.884795</td>\n",
       "      <td>51.820584</td>\n",
       "      <td>43.128684</td>\n",
       "      <td>6.567243</td>\n",
       "      <td>0.492236</td>\n",
       "    </tr>\n",
       "    <tr>\n",
       "      <td>Ketapril</td>\n",
       "      <td>55.235638</td>\n",
       "      <td>53.698743</td>\n",
       "      <td>68.553577</td>\n",
       "      <td>8.279709</td>\n",
       "      <td>0.603860</td>\n",
       "    </tr>\n",
       "    <tr>\n",
       "      <td>Naftisol</td>\n",
       "      <td>54.331565</td>\n",
       "      <td>52.509285</td>\n",
       "      <td>66.173479</td>\n",
       "      <td>8.134708</td>\n",
       "      <td>0.596466</td>\n",
       "    </tr>\n",
       "    <tr>\n",
       "      <td>Placebo</td>\n",
       "      <td>54.033581</td>\n",
       "      <td>52.288934</td>\n",
       "      <td>61.168083</td>\n",
       "      <td>7.821003</td>\n",
       "      <td>0.581331</td>\n",
       "    </tr>\n",
       "    <tr>\n",
       "      <td>Propriva</td>\n",
       "      <td>52.322552</td>\n",
       "      <td>50.854632</td>\n",
       "      <td>42.351070</td>\n",
       "      <td>6.507770</td>\n",
       "      <td>0.512884</td>\n",
       "    </tr>\n",
       "    <tr>\n",
       "      <td>Ramicane</td>\n",
       "      <td>40.216745</td>\n",
       "      <td>40.673236</td>\n",
       "      <td>23.486704</td>\n",
       "      <td>4.846308</td>\n",
       "      <td>0.320955</td>\n",
       "    </tr>\n",
       "    <tr>\n",
       "      <td>Stelasyn</td>\n",
       "      <td>54.233149</td>\n",
       "      <td>52.431737</td>\n",
       "      <td>59.450562</td>\n",
       "      <td>7.710419</td>\n",
       "      <td>0.573111</td>\n",
       "    </tr>\n",
       "    <tr>\n",
       "      <td>Zoniferol</td>\n",
       "      <td>53.236507</td>\n",
       "      <td>51.818479</td>\n",
       "      <td>48.533355</td>\n",
       "      <td>6.966589</td>\n",
       "      <td>0.516398</td>\n",
       "    </tr>\n",
       "  </tbody>\n",
       "</table>\n",
       "</div>"
      ],
      "text/plain": [
       "              Tumor Volume Mean  Tumor Volume Median  Tumor Volume Variance  \\\n",
       "Drug Regimen                                                                  \n",
       "Capomulin             40.675741            41.557809              24.947764   \n",
       "Ceftamin              52.591172            51.776157              39.290177   \n",
       "Infubinol             52.884795            51.820584              43.128684   \n",
       "Ketapril              55.235638            53.698743              68.553577   \n",
       "Naftisol              54.331565            52.509285              66.173479   \n",
       "Placebo               54.033581            52.288934              61.168083   \n",
       "Propriva              52.322552            50.854632              42.351070   \n",
       "Ramicane              40.216745            40.673236              23.486704   \n",
       "Stelasyn              54.233149            52.431737              59.450562   \n",
       "Zoniferol             53.236507            51.818479              48.533355   \n",
       "\n",
       "              Tumor Volume Std Deviation  Tumor Volume Std Error of Mean  \n",
       "Drug Regimen                                                              \n",
       "Capomulin                       4.994774                        0.329346  \n",
       "Ceftamin                        6.268188                        0.469821  \n",
       "Infubinol                       6.567243                        0.492236  \n",
       "Ketapril                        8.279709                        0.603860  \n",
       "Naftisol                        8.134708                        0.596466  \n",
       "Placebo                         7.821003                        0.581331  \n",
       "Propriva                        6.507770                        0.512884  \n",
       "Ramicane                        4.846308                        0.320955  \n",
       "Stelasyn                        7.710419                        0.573111  \n",
       "Zoniferol                       6.966589                        0.516398  "
      ]
     },
     "execution_count": 4,
     "metadata": {},
     "output_type": "execute_result"
    }
   ],
   "source": [
    "# Generate a summary statistics table of mean, median, variance, standard deviation, and SEM of the tumor volume for each regimen\n",
    "combined_regimen_mean = combined_mouse_data.groupby(\"Drug Regimen\").mean()['Tumor Volume (mm3)']\n",
    "combined_regimen_median = combined_mouse_data.groupby(\"Drug Regimen\").median()['Tumor Volume (mm3)']\n",
    "combined_regimen_variance = combined_mouse_data.groupby(\"Drug Regimen\").var()['Tumor Volume (mm3)']\n",
    "combined_regimen_std_dev = combined_mouse_data.groupby(\"Drug Regimen\").std()['Tumor Volume (mm3)']\n",
    "combined_regimen_sem = combined_mouse_data.groupby(\"Drug Regimen\").sem()['Tumor Volume (mm3)']\n",
    "\n",
    "regimen_df = pd.DataFrame ({\n",
    "    \n",
    "    'Tumor Volume Mean': combined_regimen_mean,\n",
    "    'Tumor Volume Median': combined_regimen_median,\n",
    "    'Tumor Volume Variance': combined_regimen_variance,\n",
    "    'Tumor Volume Std Deviation': combined_regimen_std_dev,\n",
    "    'Tumor Volume Std Error of Mean': combined_regimen_sem\n",
    "})\n",
    "\n",
    "regimen_df"
   ]
  },
  {
   "cell_type": "markdown",
   "metadata": {},
   "source": [
    "## Bar plots"
   ]
  },
  {
   "cell_type": "code",
   "execution_count": 5,
   "metadata": {},
   "outputs": [
    {
     "data": {
      "image/png": "[encoded data removed]",
      "text/plain": [
       "<Figure size 432x288 with 1 Axes>"
      ]
     },
     "metadata": {
      "needs_background": "light"
     },
     "output_type": "display_data"
    },
    {
     "data": {
      "text/plain": [
       "Capomulin    230\n",
       "Ramicane     228\n",
       "Ketapril     188\n",
       "Naftisol     186\n",
       "Zoniferol    182\n",
       "Stelasyn     181\n",
       "Placebo      181\n",
       "Ceftamin     178\n",
       "Infubinol    178\n",
       "Propriva     161\n",
       "Name: Drug Regimen, dtype: int64"
      ]
     },
     "execution_count": 5,
     "metadata": {},
     "output_type": "execute_result"
    }
   ],
   "source": [
    "# Generate a bar plot showing number of data points for each treatment regimen using pandas\n",
    "reg_count = combined_mouse_data[\"Drug Regimen\"].value_counts()\n",
    "#reg_count = reg_count.sort_values(ascending=False)\n",
    "ax = reg_count.plot (kind = 'bar',rot = 50, title = 'Number of Data Points For Each Drug Regimen')\n",
    "\n",
    "ax.set(ylabel=\"Data Points\")\n",
    "plt.show()\n",
    "\n",
    "reg_count\n"
   ]
  },
  {
   "cell_type": "code",
   "execution_count": 6,
   "metadata": {},
   "outputs": [
    {
     "data": {
      "text/plain": [
       "array([230, 228, 188, 186, 182, 181, 181, 178, 178, 161], dtype=int64)"
      ]
     },
     "execution_count": 6,
     "metadata": {},
     "output_type": "execute_result"
    }
   ],
   "source": [
    "names = reg_count.index.values\n",
    "names\n",
    "values = reg_count.values\n",
    "values"
   ]
  },
  {
   "cell_type": "code",
   "execution_count": 8,
   "metadata": {},
   "outputs": [
    {
     "data": {
      "image/png": "[encoded data removed]",
      "text/plain": [
       "<Figure size 432x288 with 1 Axes>"
      ]
     },
     "metadata": {
      "needs_background": "light"
     },
     "output_type": "display_data"
    }
   ],
   "source": [
    "# Generate a bar plot showing number of data points for each treatment regimen using pyplot\n",
    "plt.barh(names , values)\n",
    "plt.gca().invert_yaxis()\n",
    "#plt.title('Number of Data Points For Each Drug Regimen')\n",
    "plt.xlabel('Data Points')\n",
    "plt.ylabel('Drug Regimen')\n",
    "plt.title('Number of Data Points For Each Drug Regimen')\n",
    "#plt.ylabel('Data Points')\n",
    "plt.show()"
   ]
  },
  {
   "cell_type": "markdown",
   "metadata": {},
   "source": [
    "## Pie plots"
   ]
  },
  {
   "cell_type": "code",
   "execution_count": 12,
   "metadata": {},
   "outputs": [
    {
     "data": {
      "image/png": "[encoded data removed]",
      "text/plain": [
       "<Figure size 432x288 with 1 Axes>"
      ]
     },
     "metadata": {},
     "output_type": "display_data"
    }
   ],
   "source": [
    "# Generate a pie plot showing the distribution of female versus male mice using pandas\n",
    "gender_distr = combined_mouse_data[\"Sex\"].value_counts()\n",
    "gender_distr.plot(kind ='pie',autopct='%1.1f%%')\n",
    "plt.title('Male vs Female Distribution')\n",
    "plt.show()"
   ]
  },
  {
   "cell_type": "code",
   "execution_count": 16,
   "metadata": {},
   "outputs": [
    {
     "data": {
      "image/png": "[encoded data removed]",
      "text/plain": [
       "<Figure size 432x288 with 1 Axes>"
      ]
     },
     "metadata": {},
     "output_type": "display_data"
    }
   ],
   "source": [
    "# Generate a pie plot showing the distribution of female versus male mice using pyplot\n",
    "plt.pie(gender_distr, labels = combined_mouse_data[\"Sex\"].unique(),autopct='%1.1f%%')\n",
    "plt.title('Male vs Female Distribution')\n",
    "plt.show()"
   ]
  },
  {
   "cell_type": "markdown",
   "metadata": {},
   "source": [
    "## Quartiles, outliers and boxplots"
   ]
  },
  {
   "cell_type": "code",
   "execution_count": 9,
   "metadata": {},
   "outputs": [],
   "source": [
    "#Creating seperate data frame for each, promising drug regimen\n",
    "cap_df = combined_mouse_data.loc[combined_mouse_data[\"Drug Regimen\"] ==\"Capomulin\",:]\n",
    "ram_df = combined_mouse_data.loc[combined_mouse_data[\"Drug Regimen\"] ==\"Ramicane\",:]\n",
    "cefta_df = combined_mouse_data.loc[combined_mouse_data[\"Drug Regimen\"] ==\"Ceftamin\",:]\n",
    "infu_df = combined_mouse_data.loc[combined_mouse_data[\"Drug Regimen\"] ==\"Infubinol\",:]"
   ]
  },
  {
   "cell_type": "code",
   "execution_count": 10,
   "metadata": {},
   "outputs": [
    {
     "name": "stdout",
     "output_type": "stream",
     "text": [
      "The IQR is 7.78\n",
      "Values below 20.70 could be outliers\n",
      "Values above 51.83 could be outliers\n",
      "There were no outliers\n"
     ]
    }
   ],
   "source": [
    "# Calculate the final tumor volume of each mouse across four of the most promising treatment regimens. Calculate the IQR and quantitatively determine if there are any potential outliers.\n",
    "#Capomulin IQR and Outliers\n",
    "\n",
    "cap_time = cap_df.groupby([\"Mouse ID\"]).max()[\"Timepoint\"]\n",
    "cap_time_df = pd.DataFrame(cap_time)\n",
    "cap_vol = pd.merge(cap_time_df,combined_mouse_data,on=(\"Mouse ID\",\"Timepoint\"),how = 'left')\n",
    "cap_tumor_vol = cap_vol[\"Tumor Volume (mm3)\"]\n",
    "\n",
    "cap_quart = cap_tumor_vol.quantile([.25,.5,.75])\n",
    "cap_lower_q = cap_quart[.25]\n",
    "cap_upper_q = cap_quart[.75]\n",
    "cap_iq = cap_upper_q - cap_lower_q\n",
    "\n",
    "cap_lower_bound = cap_lower_q - (1.5 * cap_iq)\n",
    "\n",
    "cap_upper_bound = cap_upper_q + (1.5 * cap_iq)\n",
    "\n",
    "print(f'The IQR is {cap_iq:.2f}')\n",
    "print(f'Values below {cap_lower_bound:.2f} could be outliers')\n",
    "print(f'Values above {cap_upper_bound:.2f} could be outliers')\n",
    "\n",
    "cap_outliers =[]\n",
    "\n",
    "for r in cap_tumor_vol:\n",
    "    if r > cap_upper_bound or r < cap_lower_bound:\n",
    "        cap_outliers.append(r)\n",
    "\n",
    "if len(cap_outliers)== 0:\n",
    "    print('There were no outliers')\n",
    "else:\n",
    "    print('The following are outliers:')\n",
    "    print(*cap_outliers, sep ='\\n')\n"
   ]
  },
  {
   "cell_type": "code",
   "execution_count": 11,
   "metadata": {},
   "outputs": [
    {
     "name": "stdout",
     "output_type": "stream",
     "text": [
      "The IQR is 9.10\n",
      "Values below 17.91 could be outliers\n",
      "Values above 54.31 could be outliers\n",
      "There were no outliers\n"
     ]
    }
   ],
   "source": [
    "# Calculate the final tumor volume of each mouse across four of the most promising treatment regimens. Calculate the IQR and quantitatively determine if there are any potential outliers.\n",
    "#Ramicane IQR and Outliers\n",
    "\n",
    "ram_time = ram_df.groupby([\"Mouse ID\"]).max()[\"Timepoint\"]\n",
    "ram_time_df = pd.DataFrame(ram_time)\n",
    "ram_vol = pd.merge(ram_time_df,combined_mouse_data,on=(\"Mouse ID\",\"Timepoint\"),how = 'left')\n",
    "ram_tumor_vol = ram_vol[\"Tumor Volume (mm3)\"]\n",
    "\n",
    "ram_quart = ram_tumor_vol.quantile([.25,.5,.75])\n",
    "ram_lower_q = ram_quart[.25]\n",
    "ram_upper_q = ram_quart[.75]\n",
    "ram_iq = ram_upper_q - ram_lower_q\n",
    "\n",
    "ram_lower_bound = ram_lower_q - (1.5 * ram_iq)\n",
    "\n",
    "ram_upper_bound = ram_upper_q + (1.5 * ram_iq)\n",
    "\n",
    "print(f'The IQR is {ram_iq:.2f}')\n",
    "print(f'Values below {ram_lower_bound:.2f} could be outliers')\n",
    "print(f'Values above {ram_upper_bound:.2f} could be outliers')\n",
    "\n",
    "\n",
    "ram_outliers =[]\n",
    "\n",
    "for r in ram_tumor_vol:\n",
    "    if r > ram_upper_bound or r < ram_lower_bound:\n",
    "        ram_outliers.append(r)\n",
    "\n",
    "if len(ram_outliers)== 0:\n",
    "    print('There were no outliers')\n",
    "else:\n",
    "    print('The following are outliers:')\n",
    "    print(*ram_outliers, sep ='\\n')\n",
    "\n"
   ]
  },
  {
   "cell_type": "code",
   "execution_count": 12,
   "metadata": {},
   "outputs": [
    {
     "name": "stdout",
     "output_type": "stream",
     "text": [
      "The IQR is 15.58\n",
      "Values below 25.36 could be outliers\n",
      "Values above 87.67 could be outliers\n",
      "There were no outliers\n"
     ]
    }
   ],
   "source": [
    "# Calculate the final tumor volume of each mouse across four of the most promising treatment regimens. Calculate the IQR and quantitatively determine if there are any potential outliers.\n",
    "#Ceftamin IQR and Outliers\n",
    "\n",
    "cefta_time = cefta_df.groupby([\"Mouse ID\"]).max()[\"Timepoint\"]\n",
    "cefta_time_df = pd.DataFrame(cefta_time)\n",
    "cefta_vol = pd.merge(cefta_time_df,combined_mouse_data,on=(\"Mouse ID\",\"Timepoint\"),how = 'left')\n",
    "cefta_tumor_vol = cefta_vol[\"Tumor Volume (mm3)\"]\n",
    "\n",
    "cefta_quart = cefta_tumor_vol.quantile([.25,.5,.75])\n",
    "cefta_lower_q = cefta_quart[.25]\n",
    "cefta_upper_q = cefta_quart[.75]\n",
    "cefta_iq = cefta_upper_q - cefta_lower_q\n",
    "\n",
    "cefta_lower_bound = cefta_lower_q - (1.5 * cefta_iq)\n",
    "\n",
    "cefta_upper_bound = cefta_upper_q + (1.5 * cefta_iq)\n",
    "\n",
    "print(f'The IQR is {cefta_iq:.2f}')\n",
    "print(f'Values below {cefta_lower_bound:.2f} could be outliers')\n",
    "print(f'Values above {cefta_upper_bound:.2f} could be outliers')\n",
    "\n",
    "\n",
    "cefta_outliers =[]\n",
    "\n",
    "for r in cefta_tumor_vol:\n",
    "    if r > cefta_upper_bound or r < cefta_lower_bound:\n",
    "        cefta_outliers.append(r)\n",
    "\n",
    "if len(cefta_outliers)== 0:\n",
    "    print('There were no outliers')\n",
    "else:\n",
    "    print('The following are outliers:')\n",
    "    print(*cefta_outliers, sep ='\\n')"
   ]
  },
  {
   "cell_type": "code",
   "execution_count": 13,
   "metadata": {},
   "outputs": [
    {
     "name": "stdout",
     "output_type": "stream",
     "text": [
      "The IQR is 11.48\n",
      "Values below 36.83 could be outliers\n",
      "Values above 82.74 could be outliers\n",
      "The following are outliers:\n",
      "36.321345799999996\n"
     ]
    }
   ],
   "source": [
    "# Calculate the final tumor volume of each mouse across four of the most promising treatment regimens. Calculate the IQR and quantitatively determine if there are any potential outliers.\n",
    "#Infubinol IQR and Outliers\n",
    "\n",
    "infu_time = infu_df.groupby([\"Mouse ID\"]).max()[\"Timepoint\"]\n",
    "infu_time_df = pd.DataFrame(infu_time)\n",
    "infu_vol = pd.merge(infu_time_df,combined_mouse_data,on=(\"Mouse ID\",\"Timepoint\"),how = 'left')\n",
    "infu_tumor_vol = infu_vol[\"Tumor Volume (mm3)\"]\n",
    "\n",
    "infu_quart = infu_tumor_vol.quantile([.25,.5,.75])\n",
    "infu_lower_q = infu_quart[.25]\n",
    "infu_upper_q = infu_quart[.75]\n",
    "infu_iq = infu_upper_q - infu_lower_q\n",
    "\n",
    "infu_lower_bound = infu_lower_q - (1.5 * infu_iq)\n",
    "\n",
    "infu_upper_bound = infu_upper_q + (1.5 * infu_iq)\n",
    "\n",
    "print(f'The IQR is {infu_iq:.2f}')\n",
    "print(f'Values below {infu_lower_bound:.2f} could be outliers')\n",
    "print(f'Values above {infu_upper_bound:.2f} could be outliers')\n",
    "\n",
    "\n",
    "infu_outliers =[]\n",
    "\n",
    "for r in infu_tumor_vol:\n",
    "    if r > infu_upper_bound or r < infu_lower_bound:\n",
    "        infu_outliers.append(r)\n",
    "\n",
    "if len(infu_outliers)== 0:\n",
    "    print('There were no outliers')\n",
    "else:\n",
    "    print('The following are outliers:')\n",
    "    print(*infu_outliers, sep ='\\n')"
   ]
  },
  {
   "cell_type": "code",
   "execution_count": 14,
   "metadata": {},
   "outputs": [
    {
     "data": {
      "image/png": "[encoded data removed]",
      "text/plain": [
       "<Figure size 432x288 with 1 Axes>"
      ]
     },
     "metadata": {
      "needs_background": "light"
     },
     "output_type": "display_data"
    }
   ],
   "source": [
    "# Generate a box plot of the final tumor volume of each mouse across four regimens of interest\n",
    "tumor_vol_drug = [cap_tumor_vol, ram_tumor_vol, cefta_tumor_vol,infu_tumor_vol]\n",
    "fig1, ax1 = plt.subplots()\n",
    "ax1.set_title('Tumors')\n",
    "ax1.set_ylabel('Final Tumor Volume (mm3)')\n",
    "ax1.set_xlabel('Drug Regimen')\n",
    "\n",
    "ax1.boxplot(tumor_vol_drug, labels=[\"Capomulin\",\"Ramicane\",\"Ceftamin\",\"Infubinol\"])\n",
    "\n",
    "#plt.savefig('boxplot')\n",
    "plt.show()"
   ]
  },
  {
   "cell_type": "markdown",
   "metadata": {},
   "source": [
    "## Line and scatter plots"
   ]
  },
  {
   "cell_type": "code",
   "execution_count": 15,
   "metadata": {},
   "outputs": [
    {
     "data": {
      "image/png": "[encoded data removed]",
      "text/plain": [
       "<Figure size 432x288 with 1 Axes>"
      ]
     },
     "metadata": {
      "needs_background": "light"
     },
     "output_type": "display_data"
    }
   ],
   "source": [
    "#Generate a line plot of time point versus tumor volume for a mouse treated with Capomulin\n",
    "time = cap_df[\"Timepoint\"].unique()\n",
    "\n",
    "cap_df\n",
    "cap_tum = cap_df.loc[cap_df[\"Mouse ID\"] ==\"s185\",:]\n",
    "s185_vol = cap_tum[\"Tumor Volume (mm3)\"]\n",
    "\n",
    "s185_df = pd.DataFrame({\n",
    "    \"TimePoint\": time,\n",
    "    \"Tumor Volume\": s185_vol\n",
    "})\n",
    "\n",
    "s185_df\n",
    "s185_df.plot.line(x='TimePoint', y='Tumor Volume',marker ='s', legend = False)\n",
    "\n",
    "plt.ylabel(\"Tumor Volume\")\n",
    "plt.title(\"Capomulin Tumor Volume Over Time\")\n",
    "plt.xlim(0,50)\n",
    "#s185_plt = plt.plot(s185_vol,time, marker ='o', color='blue')\n",
    "\n",
    "plt.show()"
   ]
  },
  {
   "cell_type": "code",
   "execution_count": 45,
   "metadata": {},
   "outputs": [
    {
     "data": {
      "image/png": "[encoded data removed]",
      "text/plain": [
       "<Figure size 432x288 with 1 Axes>"
      ]
     },
     "metadata": {
      "needs_background": "light"
     },
     "output_type": "display_data"
    }
   ],
   "source": [
    "# Generate a scatter plot of mouse weight versus average tumor volume for the Capomulin regimen\n",
    "\n",
    "mouse_weight = cap_df.groupby([\"Mouse ID\"]).mean()[\"Weight (g)\"]\n",
    "cap_reg_vol = cap_df.groupby([\"Mouse ID\"]).mean()[\"Tumor Volume (mm3)\"]\n",
    "\n",
    "\n",
    "plt.scatter(mouse_weight, cap_reg_vol)\n",
    "plt.xlabel(\"Weight (g)\")\n",
    "plt.ylabel(\"Tumor Volume (mm3)\")\n",
    "plt.title(\"Weight vs Tumor Volume\")\n",
    "plt.show()"
   ]
  },
  {
   "cell_type": "code",
   "execution_count": 46,
   "metadata": {},
   "outputs": [
    {
     "name": "stdout",
     "output_type": "stream",
     "text": [
      "The correlation coefficient between malic acid and flavanoids is 0.84\n"
     ]
    }
   ],
   "source": [
    "# Calculate the correlation coefficient and linear regression model for mouse weight and average tumor volume for the Capomulin regimen\n",
    "print(f'The correlation coefficient between malic acid and flavanoids is {round(st.pearsonr(mouse_weight,cap_reg_vol)[0],2)}')"
   ]
  },
  {
   "cell_type": "code",
   "execution_count": 48,
   "metadata": {},
   "outputs": [
    {
     "data": {
      "image/png": "[encoded data removed]",
      "text/plain": [
       "<Figure size 432x288 with 1 Axes>"
      ]
     },
     "metadata": {
      "needs_background": "light"
     },
     "output_type": "display_data"
    }
   ],
   "source": [
    "(slope, intercept, rvalue, pvalue, stderr) = st.linregress(mouse_weight,cap_reg_vol)\n",
    "regress_values = slope*mouse_weight + intercept\n",
    "\n",
    "plt.scatter(mouse_weight, cap_reg_vol)\n",
    "plt.plot(mouse_weight,regress_values,'r')\n",
    "plt.xlabel(\"Weight (g)\")\n",
    "plt.ylabel(\"Tumor Volume (mm3)\")\n",
    "plt.title(\"Weight vs Tumor Volume\")\n",
    "plt.show()"
   ]
  }
 ],
 "metadata": {
  "anaconda-cloud": {},
  "kernelspec": {
   "display_name": "Python 3",
   "language": "python",
   "name": "python3"
  },
  "language_info": {
   "codemirror_mode": {
    "name": "ipython",
    "version": 3
   },
   "file_extension": ".py",
   "mimetype": "text/x-python",
   "name": "python",
   "nbconvert_exporter": "python",
   "pygments_lexer": "ipython3",
   "version": "3.7.4"
  }
 },
 "nbformat": 4,
 "nbformat_minor": 2
}
